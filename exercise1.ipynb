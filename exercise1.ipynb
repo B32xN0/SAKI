{
 "cells": [
  {
   "cell_type": "markdown",
   "source": [
    "Imports"
   ],
   "metadata": {
    "collapsed": false
   }
  },
  {
   "cell_type": "code",
   "execution_count": 388,
   "metadata": {
    "collapsed": true,
    "pycharm": {
     "name": "#%%\n"
    }
   },
   "outputs": [],
   "source": [
    "import csv\n",
    "import numpy as np\n",
    "from sklearn.feature_extraction.text import CountVectorizer, TfidfTransformer\n",
    "from sklearn.metrics import confusion_matrix, ConfusionMatrixDisplay\n",
    "from sklearn.model_selection import KFold\n",
    "from sklearn.naive_bayes import GaussianNB\n",
    "from sklearn.preprocessing import OneHotEncoder, LabelEncoder\n",
    "from scipy.sparse import hstack\n",
    "import matplotlib.pyplot as plt"
   ]
  },
  {
   "cell_type": "markdown",
   "source": [
    "Load the transaction data from the csv file into a numpy array."
   ],
   "metadata": {
    "collapsed": false
   }
  },
  {
   "cell_type": "code",
   "execution_count": 389,
   "outputs": [],
   "source": [
    "file_path = 'TransactionDS.csv'\n",
    "with open(file_path, 'r') as file:\n",
    "    data_iterator = csv.reader(file, delimiter=';')\n",
    "    data_list = list(data_iterator)\n",
    "data = np.asarray(data_list)\n",
    "\n",
    "# TODO datatype\n"
   ],
   "metadata": {
    "collapsed": false,
    "pycharm": {
     "name": "#%%\n"
    }
   }
  },
  {
   "cell_type": "markdown",
   "source": [
    "Remove first row (descriptions), remove first column (ids)\n",
    "and split labels from input data."
   ],
   "metadata": {
    "collapsed": false
   }
  },
  {
   "cell_type": "code",
   "execution_count": 390,
   "outputs": [],
   "source": [
    "data = data[1:,:]\n",
    "data = data[:,1:]\n",
    "x, y = data[:,:-1], data[:,-1]\n",
    "\n"
   ],
   "metadata": {
    "collapsed": false,
    "pycharm": {
     "name": "#%%\n"
    }
   }
  },
  {
   "cell_type": "markdown",
   "source": [
    "Preprocessing of amount, interpreted continuous: Converted to float and normalized in range [-1, 1]"
   ],
   "metadata": {
    "collapsed": false
   }
  },
  {
   "cell_type": "code",
   "execution_count": 391,
   "outputs": [
    {
     "name": "stdout",
     "output_type": "stream",
     "text": [
      "(209, 1)\n"
     ]
    }
   ],
   "source": [
    "repl_vec = np.vectorize(lambda s: s.replace(',', '.'))\n",
    "dot_amount = repl_vec(x[:,8])\n",
    "float_amount = np.asfarray(dot_amount, float)\n",
    "float_amount /= np.max(np.abs(float_amount))\n",
    "float_amount = np.reshape(float_amount, (float_amount.size, 1))\n",
    "print(float_amount.shape)"
   ],
   "metadata": {
    "collapsed": false,
    "pycharm": {
     "name": "#%%\n"
    }
   }
  },
  {
   "cell_type": "markdown",
   "source": [
    "Preprocessing of text data, CountVectorizer and TfidTransformer"
   ],
   "metadata": {
    "collapsed": false,
    "pycharm": {
     "name": "#%% md\n"
    }
   }
  },
  {
   "cell_type": "code",
   "execution_count": 392,
   "outputs": [
    {
     "name": "stdout",
     "output_type": "stream",
     "text": [
      "(209, 21)\n",
      "(209, 339)\n"
     ]
    }
   ],
   "source": [
    "count_vec_bt = CountVectorizer()\n",
    "count_vec_vz = CountVectorizer()\n",
    "bt_vec = count_vec_bt.fit_transform(x[:,3])\n",
    "vz_vec = count_vec_vz.fit_transform(x[:,4])\n",
    "\n",
    "tf_trans_bt = TfidfTransformer(use_idf=False).fit(bt_vec)\n",
    "bt_freq = tf_trans_bt.transform(bt_vec)\n",
    "tf_trans_vz = TfidfTransformer(use_idf=False).fit(vz_vec)\n",
    "vz_freq = tf_trans_vz.transform(vz_vec)\n",
    "\n",
    "print(bt_freq.shape)\n",
    "print(vz_freq.shape)"
   ],
   "metadata": {
    "collapsed": false,
    "pycharm": {
     "name": "#%%\n"
    }
   }
  },
  {
   "cell_type": "markdown",
   "source": [
    "One hot encoding for all other data\n"
   ],
   "metadata": {
    "collapsed": false
   }
  },
  {
   "cell_type": "code",
   "execution_count": 393,
   "outputs": [
    {
     "name": "stdout",
     "output_type": "stream",
     "text": [
      "(209, 387)\n"
     ]
    }
   ],
   "source": [
    "remaining_data = np.delete(x, 8, 1)\n",
    "remaining_data = np.delete(remaining_data, 3, 1)\n",
    "remaining_data = np.delete(remaining_data, 4, 1)\n",
    "\n",
    "enc = OneHotEncoder(drop='first', handle_unknown='error')\n",
    "enc.fit(remaining_data)\n",
    "data_cat = enc.transform(remaining_data)\n",
    "print(data_cat.shape)"
   ],
   "metadata": {
    "collapsed": false,
    "pycharm": {
     "name": "#%%\n"
    }
   }
  },
  {
   "cell_type": "markdown",
   "source": [
    "Joint all together"
   ],
   "metadata": {
    "collapsed": false
   }
  },
  {
   "cell_type": "code",
   "execution_count": 394,
   "outputs": [
    {
     "name": "stdout",
     "output_type": "stream",
     "text": [
      "(209, 748)\n"
     ]
    }
   ],
   "source": [
    "final_x = hstack((float_amount, bt_freq, vz_freq, data_cat))\n",
    "final_x = final_x.toarray()\n",
    "print(final_x.shape)"
   ],
   "metadata": {
    "collapsed": false,
    "pycharm": {
     "name": "#%%\n"
    }
   }
  },
  {
   "cell_type": "markdown",
   "source": [
    "Encode the class labels"
   ],
   "metadata": {
    "collapsed": false,
    "pycharm": {
     "name": "#%% md\n"
    }
   }
  },
  {
   "cell_type": "code",
   "execution_count": 395,
   "outputs": [],
   "source": [
    "le = LabelEncoder()\n",
    "le.fit(y)\n",
    "y_num = le.transform(y)"
   ],
   "metadata": {
    "collapsed": false,
    "pycharm": {
     "name": "#%%\n"
    }
   }
  },
  {
   "cell_type": "markdown",
   "source": [
    "Define and evaluate the model using cross validation with five folds\n",
    "Get the confusion matrix of all runs averaged\n"
   ],
   "metadata": {
    "collapsed": false
   }
  },
  {
   "cell_type": "code",
   "execution_count": 396,
   "outputs": [
    {
     "data": {
      "text/plain": "[]"
     },
     "execution_count": 396,
     "metadata": {},
     "output_type": "execute_result"
    },
    {
     "data": {
      "text/plain": "<Figure size 432x288 with 2 Axes>",
      "image/png": "[encoded data removed]"
     },
     "metadata": {
      "needs_background": "light"
     },
     "output_type": "display_data"
    }
   ],
   "source": [
    "conf_matrix_list = []\n",
    "kf = KFold(n_splits=5)\n",
    "for train_i, test_i in kf.split(y_num):\n",
    "    x_train, x_test = final_x[train_i], final_x[test_i]\n",
    "    y_train, y_test = y_num[train_i], y_num[test_i]\n",
    "    gnb = GaussianNB()\n",
    "    gnb.fit(x_train, y_train)\n",
    "    conf = confusion_matrix(y_test, gnb.predict(x_test))\n",
    "    conf_matrix_list.append(conf)\n",
    "confusion_sum = np.sum(conf_matrix_list, axis=0)\n",
    "disp = ConfusionMatrixDisplay(confusion_matrix=confusion_sum, display_labels=le.classes_)\n",
    "fig, ax = plt.subplots(1, 1)\n",
    "disp.plot(xticks_rotation='vertical', ax=ax)\n",
    "plt.tight_layout()\n",
    "plt.savefig(\"ConfusionMatrix\", dpi=400)\n",
    "plt.plot()\n",
    "#print(confusion_sum)\n",
    "#print(le.classes_)"
   ],
   "metadata": {
    "collapsed": false,
    "pycharm": {
     "name": "#%%\n"
    }
   }
  }
 ],
 "metadata": {
  "kernelspec": {
   "display_name": "Python 3",
   "language": "python",
   "name": "python3"
  },
  "language_info": {
   "codemirror_mode": {
    "name": "ipython",
    "version": 2
   },
   "file_extension": ".py",
   "mimetype": "text/x-python",
   "name": "python",
   "nbconvert_exporter": "python",
   "pygments_lexer": "ipython2",
   "version": "2.7.6"
  }
 },
 "nbformat": 4,
 "nbformat_minor": 0
}